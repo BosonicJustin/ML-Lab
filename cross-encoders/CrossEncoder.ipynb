{
 "cells": [
  {
   "cell_type": "markdown",
   "id": "b880b00a",
   "metadata": {},
   "source": [
    "## Cross-Encoders\n",
    "\n",
    "Playground for Cross-Encoders. This is meant to thest the cross-encoder capacity in improving retrieval tasks"
   ]
  },
  {
   "cell_type": "markdown",
   "id": "db74c001",
   "metadata": {},
   "source": [
    "## Loading datasets\n",
    "\n",
    "The following cell loads the datasets by using the natural questions dataset from HuggingFace"
   ]
  },
  {
   "cell_type": "code",
   "execution_count": 1,
   "id": "c07b4776",
   "metadata": {},
   "outputs": [
    {
     "name": "stdout",
     "output_type": "stream",
     "text": [
      "Dataset({\n",
      "    features: ['query', 'answer'],\n",
      "    num_rows: 100231\n",
      "})\n",
      "Query:  when did richmond last play in a preliminary final\n",
      "Answer: Richmond Football Club Richmond began 2017 with 5 straight wins, a feat it had not achieved since 1995. A series of close losses hampered the Tigers throughout the middle of the season, including a 5-point loss to the Western Bulldogs, 2-point loss to Fremantle, and a 3-point loss to the Giants. Richmond ended the season strongly with convincing victories over Fremantle and St Kilda in the final two rounds, elevating the club to 3rd on the ladder. Richmond's first final of the season against the Cats at the MCG attracted a record qualifying final crowd of 95,028; the Tigers won by 51 points. Having advanced to the first preliminary finals for the first time since 2001, Richmond defeated Greater Western Sydney by 36 points in front of a crowd of 94,258 to progress to the Grand Final against Adelaide, their first Grand Final appearance since 1982. The attendance was 100,021, the largest crowd to a grand final since 1986. The Crows led at quarter time and led by as many as 13, but the Tigers took over the game as it progressed and scored seven straight goals at one point. They eventually would win by 48 points – 16.12 (108) to Adelaide's 8.12 (60) – to end their 37-year flag drought.[22] Dustin Martin also became the first player to win a Premiership medal, the Brownlow Medal and the Norm Smith Medal in the same season, while Damien Hardwick was named AFL Coaches Association Coach of the Year. Richmond's jump from 13th to premiers also marked the biggest jump from one AFL season to the next.\n"
     ]
    }
   ],
   "source": [
    "%load_ext autoreload\n",
    "%autoreload 2\n",
    "\n",
    "# Hugging face datasets helper\n",
    "from datasets import load_dataset\n",
    "\n",
    "train_dataset = load_dataset(\"sentence-transformers/natural-questions\", split=\"train\")\n",
    "\n",
    "print(train_dataset)\n",
    "\n",
    "\n",
    "print(\"Query: \", train_dataset[0][\"query\"])\n",
    "print(\"Answer:\", train_dataset[0][\"answer\"])"
   ]
  },
  {
   "cell_type": "code",
   "execution_count": 2,
   "id": "dce66a4b",
   "metadata": {},
   "outputs": [],
   "source": [
    "from sentence_transformers import SentenceTransformer\n",
    "from sentence_transformers.util import mine_hard_negatives\n",
    "\n",
    "from sentence_transformers import CrossEncoder\n",
    "from sentence_transformers.cross_encoder.losses import CachedMultipleNegativesRankingLoss\n",
    "\n",
    "\n",
    "# train_dataset = load_dataset(\"sentence-transformers/gooaq\", split=\"train\").select(range(100_000))\n",
    "# print(train_dataset)\n",
    "\n",
    "# # Mine hard negatives using a very efficient embedding model\n",
    "# embedding_model = SentenceTransformer(\"sentence-transformers/static-retrieval-mrl-en-v1\", device=\"cpu\")\n",
    "# hard_train_dataset = mine_hard_negatives(\n",
    "#     train_dataset,\n",
    "#     embedding_model,\n",
    "#     num_negatives=5,  # How many negatives per question-answer pair\n",
    "#     range_min=10,  # Skip the x most similar samples\n",
    "#     range_max=100,  # Consider only the x most similar samples\n",
    "#     max_score=0.8,  # Only consider samples with a similarity score of at most x\n",
    "#     absolute_margin=0.1,  # Similarity between query and negative samples should be x lower than query-positive similarity\n",
    "#     sampling_strategy=\"top\",  # Randomly sample negatives from the range\n",
    "#     batch_size=4096,  # Use a batch size of 4096 for the embedding model\n",
    "#     output_format=\"labeled-pair\",  # The output format is (query, passage, label), as required by BinaryCrossEntropyLoss\n",
    "#     use_faiss=True,  # Using FAISS is recommended to keep memory usage low (pip install faiss-gpu or pip install faiss-cpu)\n",
    "# )\n",
    "# print(hard_train_dataset)\n",
    "# print(hard_train_dataset[1])\n",
    "\n"
   ]
  },
  {
   "cell_type": "markdown",
   "id": "c06aa03a",
   "metadata": {},
   "source": []
  },
  {
   "cell_type": "code",
   "execution_count": null,
   "id": "aca78adb",
   "metadata": {},
   "outputs": [
    {
     "name": "stderr",
     "output_type": "stream",
     "text": [
      "Some weights of XLMRobertaForSequenceClassification were not initialized from the model checkpoint at xlm-roberta-base and are newly initialized: ['classifier.dense.bias', 'classifier.dense.weight', 'classifier.out_proj.bias', 'classifier.out_proj.weight']\n",
      "You should probably TRAIN this model on a down-stream task to be able to use it for predictions and inference.\n"
     ]
    }
   ],
   "source": [
    "from sentence_transformers.cross_encoder import CrossEncoderTrainingArguments\n",
    "from sentence_transformers.training_args import BatchSamplers\n",
    "\n",
    "model = CrossEncoder(\"xlm-roberta-base\", num_labels=1) # num_labels=1 is for rerankers\n",
    "loss = CachedMultipleNegativesRankingLoss(model)\n",
    "train_dataset = load_dataset(\"sentence-transformers/gooaq\", split=\"train\")\n",
    "\n",
    "args = CrossEncoderTrainingArguments(\n",
    "    # Required parameter:\n",
    "    output_dir=\"models/reranker-MiniLM-msmarco-v1\",\n",
    "    # Optional training parameters:\n",
    "    num_train_epochs=1,\n",
    "    per_device_train_batch_size=16,\n",
    "    per_device_eval_batch_size=16,\n",
    "    learning_rate=2e-5,\n",
    "    warmup_ratio=0.1,\n",
    "    fp16=True,  # Set to False if you get an error that your GPU can't run on FP16\n",
    "    bf16=False,  # Set to True if you have a GPU that supports BF16\n",
    "    batch_sampler=BatchSamplers.NO_DUPLICATES,  # losses that use \"in-batch negatives\" benefit from no duplicates\n",
    "    # Optional tracking/debugging parameters:\n",
    "    eval_strategy=\"steps\",\n",
    "    eval_steps=100,\n",
    "    save_strategy=\"steps\",\n",
    "    save_steps=100,\n",
    "    save_total_limit=2,\n",
    "    logging_steps=100,\n",
    "    run_name=\"reranker-MiniLM-msmarco-v1\",  # Will be used in W&B if `wandb` is installed\n",
    ")\n"
   ]
  },
  {
   "cell_type": "code",
   "execution_count": null,
   "id": "a4ddbfb9",
   "metadata": {},
   "outputs": [],
   "source": []
  }
 ],
 "metadata": {
  "kernelspec": {
   "display_name": "venv",
   "language": "python",
   "name": "python3"
  },
  "language_info": {
   "codemirror_mode": {
    "name": "ipython",
    "version": 3
   },
   "file_extension": ".py",
   "mimetype": "text/x-python",
   "name": "python",
   "nbconvert_exporter": "python",
   "pygments_lexer": "ipython3",
   "version": "3.10.0"
  }
 },
 "nbformat": 4,
 "nbformat_minor": 5
}
