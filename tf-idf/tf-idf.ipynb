{
 "cells": [
  {
   "cell_type": "code",
   "execution_count": 3,
   "id": "6f5813d0",
   "metadata": {},
   "outputs": [
    {
     "name": "stdout",
     "output_type": "stream",
     "text": [
      "{'python': 1, 'is': 2, 'a': 3, 'popular': 4, 'programming': 5, 'language': 6, 'for': 7, 'machine': 8, 'learning': 9, 'and': 10, 'data': 11, 'science.': 12, 'the': 13, 'local': 14, 'football': 15, 'team': 16, 'won': 17, 'championship': 18, 'after': 19, 'scoring': 20, 'three': 21, 'dramatic': 22, 'goals.': 23, 'central': 24, 'banks': 25, 'raised': 26, 'interest': 27, 'rates': 28, 'to': 29, 'curb': 30, 'rising': 31, 'inflation': 32, 'across': 33, 'global': 34, 'markets.': 35, 'astronomers': 36, 'discovered': 37, 'an': 38, 'earth‑like': 39, 'exoplanet': 40, 'orbiting': 41, 'distant': 42, 'red': 43, 'dwarf': 44, 'star.': 45, 'sourdough': 46, 'bread': 47, 'requires': 48, 'long': 49, 'fermentation': 50, 'process': 51, 'that': 52, 'develops': 53, 'complex': 54, 'flavor.': 55, 'regular': 56, 'exercise': 57, 'balanced': 58, 'nutrition': 59, 'reduce': 60, 'risk': 61, 'of': 62, 'cardiovascular': 63, 'disease.': 64, 'backpackers': 65, 'crossed': 66, 'andes,': 67, 'capturing': 68, 'breathtaking': 69, 'photos': 70, 'snow‑capped': 71, 'peaks.': 72, 'renaissance': 73, 'sparked': 74, 'revival': 75, 'art,': 76, 'science,': 77, 'philosophy': 78, 'throughout': 79, 'europe.': 80, 'researchers': 81, 'track': 82, 'deforestation': 83, 'using': 84, 'satellite': 85, 'imagery': 86, 'deep': 87, 'learning.': 88, 'new': 89, 'sci‑fi': 90, 'film': 91, 'blends': 92, 'time‑travel,': 93, 'humor,': 94, 'stunning': 95, 'visual': 96, 'effects.': 97}\n"
     ]
    }
   ],
   "source": [
    "import numpy as np\n",
    "import matplotlib.pyplot as plt\n",
    "\n",
    "dictionary = dict()\n",
    "\n",
    "documents = [\n",
    "    \"Python is a popular programming language for machine learning and data science.\",\n",
    "    \"The local football team won the championship after scoring three dramatic goals.\",\n",
    "    \"Central banks raised interest rates to curb rising inflation across global markets.\",\n",
    "    \"Astronomers discovered an Earth‑like exoplanet orbiting a distant red dwarf star.\",\n",
    "    \"Sourdough bread requires a long fermentation process that develops complex flavor.\",\n",
    "    \"Regular exercise and balanced nutrition reduce the risk of cardiovascular disease.\",\n",
    "    \"Backpackers crossed the Andes, capturing breathtaking photos of snow‑capped peaks.\",\n",
    "    \"The Renaissance sparked a revival of art, science, and philosophy throughout Europe.\",\n",
    "    \"Researchers track deforestation rates using satellite imagery and deep learning.\",\n",
    "    \"The new sci‑fi film blends time‑travel, humor, and stunning visual effects.\"\n",
    "]\n",
    "\n",
    "\n",
    "current_index = 1\n",
    "\n",
    "for d in documents:\n",
    "    # Tokenize the document\n",
    "    tokens = d.lower().split()\n",
    "\n",
    "    for t in tokens:\n",
    "        if t not in dictionary:\n",
    "            dictionary[t] = current_index\n",
    "            current_index += 1\n",
    "\n",
    "\n",
    "print(dictionary)\n"
   ]
  },
  {
   "cell_type": "code",
   "execution_count": 19,
   "id": "858794fd",
   "metadata": {},
   "outputs": [
    {
     "name": "stdout",
     "output_type": "stream",
     "text": [
      "0.19188209108283716\n"
     ]
    }
   ],
   "source": [
    "tf = [] # (document_index, word_index = {index: tf})\n",
    "\n",
    "for d in range(len(documents)):\n",
    "    freq_counter = dict()\n",
    "\n",
    "    for word in documents[d].lower().split():\n",
    "        t = dictionary[word]\n",
    "        freq_counter[t] = freq_counter.get(t, 0) + 1\n",
    "\n",
    "\n",
    "    freq_counter = {k: v / len(documents[d].split()) for k, v in freq_counter.items()}\n",
    "    tf.append(freq_counter)\n",
    "\n",
    "\n",
    "# t -> IDF\n",
    "idf = dict()\n",
    "\n",
    "N = len(documents)\n",
    "\n",
    "for word in dictionary:\n",
    "    occurances = sum([1 for d in documents if word in d.lower().split()])\n",
    "    idf[dictionary[word]]  = np.log(N / occurances).item()\n",
    "\n",
    "\n",
    "def tfidf(d, t):\n",
    "    return tf[d].get(t, 0) * idf[t]\n",
    "\n",
    "\n",
    "print(tfidf(0, 1)) "
   ]
  }
 ],
 "metadata": {
  "kernelspec": {
   "display_name": "venv",
   "language": "python",
   "name": "python3"
  },
  "language_info": {
   "codemirror_mode": {
    "name": "ipython",
    "version": 3
   },
   "file_extension": ".py",
   "mimetype": "text/x-python",
   "name": "python",
   "nbconvert_exporter": "python",
   "pygments_lexer": "ipython3",
   "version": "3.10.0"
  }
 },
 "nbformat": 4,
 "nbformat_minor": 5
}
